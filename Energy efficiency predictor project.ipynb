{
 "cells": [
  {
   "cell_type": "markdown",
   "metadata": {},
   "source": [
    "# ENGR 1330 – Computational Thinking and Data Science"
   ]
  },
  {
   "cell_type": "code",
   "execution_count": null,
   "metadata": {},
   "outputs": [],
   "source": []
  },
  {
   "cell_type": "markdown",
   "metadata": {},
   "source": [
    "## HVAC Energy Predictor Final Project - Background\n",
    "\n",
    "About 25% to 50%  of the total energy consumption by residential buildings are taken by Heating Ventilation and Air Conditioning (HVAC) systems. Architectural design factors involving size, shape and orientation of buildings significantly affect the heating and cooling load. A systematic study on dependence of heating and cooling load on architectural features can lead to energy efficient home design.  \n",
    "\n",
    "\n",
    "Before you begin, read the description of the dataset here: https://archive.ics.uci.edu/dataset/242/energy+efficiency\n",
    "\n",
    "## Objective(s):\n",
    "\n",
    "- Literature scan on HVAC systems and their efficiency\n",
    "- Analyze an existing  database and build data models to predict the heating load and cooling load\n",
    "- Build an interface to allow users to enter and return an estimated (by defining and function that takes input parameters and plugs them in into the model that you have found and returns the output)"
   ]
  },
  {
   "attachments": {
    "image.png": {
     "image/png": "[encoded data removed]"
    }
   },
   "cell_type": "markdown",
   "metadata": {},
   "source": [
    "## Tasks: \n",
    "\n",
    "**Literature Research:**\n",
    "- Briefly describe the challenge of minimizing residential HVAC energy consumption \n",
    "- Summarize the value of a data model in the context of the conventional approach to HVAC energy prediction\n",
    "\n",
    "Some places to start are:\n",
    "\n",
    "https://www.ncbi.nlm.nih.gov/pmc/articles/PMC9571769/\n",
    "\n",
    "https://www.sciencedirect.com/science/article/pii/S1364032114007151\n",
    "    \n",
    "https://www.mdpi.com/1424-8220/20/22/6419\n",
    "\n",
    "\n",
    "\n",
    "**Exploratory Data Analysis**\n",
    "- Describe (in words) the database.\n",
    "- Reformat as needed (column headings perhaps) the database for subsequent analysis.\n",
    "\n",
    "**Model Building**\n",
    "- Build 2 separate data models to estimate the heating load and the cooling load based on the appropriate architectural features given in your dataset\n",
    "- Assess the model quality\n",
    "- Build the input data interface for using the model (by defining and function that takes input parameters and plugs them in into the model that you have found and returns the output)\n",
    "- Using your model determine projected heating load and cooling load for 3 possible feature combinations in the table below:\n",
    "\n",
    "![image.png](attachment:image.png)\n",
    "\n",
    "\n",
    "               \n",
    "       \n",
    "**Documentation**\n",
    "- Training video on how to use your tool, and demonstrate the tool(s) as they are run\n",
    "- Interim report (see deliverables below); this document must be rendered as a .pdf.\n",
    "- Final ipynb file (see deliverables below)"
   ]
  },
  {
   "cell_type": "markdown",
   "metadata": {},
   "source": [
    "## Deliverables:\n",
    "\n",
    "#### Part 1 Interim Report (due Dec 2):\n",
    "A report that briefly describes the project. Use the Interim Report Template in BlackBoard.  \n",
    "- Break down each task into manageable subtasks and describe how you intend to solve the subtasks and how you will test each task. (Perhaps make a simple Gantt Chart) or list of meeting times. \n",
    "- Address the responsibilities of each team member for tasks completed and tasks to be completed until the end of the semester. (Perhaps make explicit subtask assignments)  \n",
    "\n",
    "#### Part 2 Final Report (due Dec 9):\n",
    "- A well-documented JupyterLab (using a python kernel), use markdown cells and commenting for explanations and text. \n",
    "- A how-to video demonstrating performance and description of problems that you were not able to solve and also talk about project management such as who did what. Active participation of every single group member is mandatory in the presentation. \n",
    "- A final peer evaluation report, where each group member should rate the participation and contribution of the other members.\n",
    "\n",
    "**Above items can reside in a single video; but structure the video into the two parts; use an obvious transition when moving from \"how to ...\" into the project management portion.**  Keep the total video length to less than 10 minutes; submit as an *unlisted* YouTube video, and just supply the link (someone on each team is likely to have a YouTube creator account).  Keep in mind a 10 minute video can approach 100MB file size before compression, so it won't upload to Blackboard and cannot be emailed."
   ]
  },
  {
   "cell_type": "code",
   "execution_count": null,
   "metadata": {},
   "outputs": [],
   "source": []
  }
 ],
 "metadata": {
  "kernelspec": {
   "display_name": "Python 3 (ipykernel)",
   "language": "python",
   "name": "python3"
  },
  "language_info": {
   "codemirror_mode": {
    "name": "ipython",
    "version": 3
   },
   "file_extension": ".py",
   "mimetype": "text/x-python",
   "name": "python",
   "nbconvert_exporter": "python",
   "pygments_lexer": "ipython3",
   "version": "3.12.4"
  }
 },
 "nbformat": 4,
 "nbformat_minor": 4
}
